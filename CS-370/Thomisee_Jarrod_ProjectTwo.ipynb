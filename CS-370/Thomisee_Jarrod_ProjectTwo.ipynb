{
 "cells": [
  {
   "cell_type": "markdown",
   "metadata": {},
   "source": [
    "# Treasure Hunt Game Notebook\n",
    "\n",
    "## Read and Review Your Starter Code\n",
    "The theme of this project is a popular treasure hunt game in which the player needs to find the treasure before the pirate does. While you will not be developing the entire game, you will write the part of the game that represents the intelligent agent, which is a pirate in this case. The pirate will try to find the optimal path to the treasure using deep Q-learning. \n",
    "\n",
    "You have been provided with two Python classes and this notebook to help you with this assignment. The first class, TreasureMaze.py, represents the environment, which includes a maze object defined as a matrix. The second class, GameExperience.py, stores the episodes – that is, all the states that come in between the initial state and the terminal state. This is later used by the agent for learning by experience, called \"exploration\". This notebook shows how to play a game. Your task is to complete the deep Q-learning implementation for which a skeleton implementation has been provided. The code blocks you will need to complete has #TODO as a header.\n",
    "\n",
    "First, read and review the next few code and instruction blocks to understand the code that you have been given."
   ]
  },
  {
   "cell_type": "code",
   "execution_count": 1,
   "metadata": {},
   "outputs": [
    {
     "name": "stderr",
     "output_type": "stream",
     "text": [
      "Using TensorFlow backend.\n"
     ]
    }
   ],
   "source": [
    "from __future__ import print_function\n",
    "import os, sys, time, datetime, json, random\n",
    "import numpy as np\n",
    "from keras.models import Sequential\n",
    "from keras.layers.core import Dense, Activation\n",
    "from keras.optimizers import SGD , Adam, RMSprop\n",
    "from keras.layers.advanced_activations import PReLU\n",
    "import matplotlib.pyplot as plt\n",
    "from TreasureMaze import TreasureMaze\n",
    "from GameExperience import GameExperience\n",
    "%matplotlib inline"
   ]
  },
  {
   "cell_type": "markdown",
   "metadata": {},
   "source": [
    "The following code block contains an 8x8 matrix that will be used as a maze object:"
   ]
  },
  {
   "cell_type": "code",
   "execution_count": 2,
   "metadata": {},
   "outputs": [],
   "source": [
    "maze = np.array([\n",
    "    [ 1.,  0.,  1.,  1.,  1.,  1.,  1.,  1.],\n",
    "    [ 1.,  0.,  1.,  1.,  1.,  0.,  1.,  1.],\n",
    "    [ 1.,  1.,  1.,  1.,  0.,  1.,  0.,  1.],\n",
    "    [ 1.,  1.,  1.,  0.,  1.,  1.,  1.,  1.],\n",
    "    [ 1.,  1.,  0.,  1.,  1.,  1.,  1.,  1.],\n",
    "    [ 1.,  1.,  1.,  0.,  1.,  0.,  0.,  0.],\n",
    "    [ 1.,  1.,  1.,  0.,  1.,  1.,  1.,  1.],\n",
    "    [ 1.,  1.,  1.,  1.,  0.,  1.,  1.,  1.]\n",
    "])"
   ]
  },
  {
   "cell_type": "markdown",
   "metadata": {},
   "source": [
    "This helper function allows a visual representation of the maze object:"
   ]
  },
  {
   "cell_type": "code",
   "execution_count": 3,
   "metadata": {},
   "outputs": [],
   "source": [
    "def show(qmaze):\n",
    "    plt.grid('on')\n",
    "    nrows, ncols = qmaze.maze.shape\n",
    "    ax = plt.gca()\n",
    "    ax.set_xticks(np.arange(0.5, nrows, 1))\n",
    "    ax.set_yticks(np.arange(0.5, ncols, 1))\n",
    "    ax.set_xticklabels([])\n",
    "    ax.set_yticklabels([])\n",
    "    canvas = np.copy(qmaze.maze)\n",
    "    for row,col in qmaze.visited:\n",
    "        canvas[row,col] = 0.6\n",
    "    pirate_row, pirate_col, _ = qmaze.state\n",
    "    canvas[pirate_row, pirate_col] = 0.3   # pirate cell\n",
    "    canvas[nrows-1, ncols-1] = 0.9 # treasure cell\n",
    "    img = plt.imshow(canvas, interpolation='none', cmap='gray')\n",
    "    return img"
   ]
  },
  {
   "cell_type": "markdown",
   "metadata": {},
   "source": [
    "The pirate agent can move in four directions: left, right, up, and down. \n",
    "\n",
    "While the agent primarily learns by experience through exploitation, often, the agent can choose to explore the environment to find previously undiscovered paths. This is called \"exploration\" and is defined by epsilon. This value is typically a lower value such as 0.1, which means for every ten attempts, the agent will attempt to learn by experience nine times and will randomly explore a new path one time. You are encouraged to try various values for the exploration factor and see how the algorithm performs."
   ]
  },
  {
   "cell_type": "code",
   "execution_count": 4,
   "metadata": {},
   "outputs": [],
   "source": [
    "LEFT = 0\n",
    "UP = 1\n",
    "RIGHT = 2\n",
    "DOWN = 3\n",
    "\n",
    "\n",
    "# Exploration factor\n",
    "epsilon = 0.1\n",
    "\n",
    "# Actions dictionary\n",
    "actions_dict = {\n",
    "    LEFT: 'left',\n",
    "    UP: 'up',\n",
    "    RIGHT: 'right',\n",
    "    DOWN: 'down',\n",
    "}\n",
    "\n",
    "num_actions = len(actions_dict)\n"
   ]
  },
  {
   "cell_type": "markdown",
   "metadata": {},
   "source": [
    "The sample code block and output below show creating a maze object and performing one action (DOWN), which returns the reward. The resulting updated environment is visualized."
   ]
  },
  {
   "cell_type": "code",
   "execution_count": 5,
   "metadata": {},
   "outputs": [
    {
     "name": "stdout",
     "output_type": "stream",
     "text": [
      "reward= -0.04\n"
     ]
    },
    {
     "data": {
      "text/plain": [
       "<matplotlib.image.AxesImage at 0x265b83b0358>"
      ]
     },
     "execution_count": 5,
     "metadata": {},
     "output_type": "execute_result"
    },
    {
     "data": {
      "image/png": "[encoded data removed]",
      "text/plain": [
       "<Figure size 432x288 with 1 Axes>"
      ]
     },
     "metadata": {
      "needs_background": "light"
     },
     "output_type": "display_data"
    }
   ],
   "source": [
    "qmaze = TreasureMaze(maze)\n",
    "canvas, reward, game_over = qmaze.act(DOWN)\n",
    "print(\"reward=\", reward)\n",
    "show(qmaze)"
   ]
  },
  {
   "cell_type": "markdown",
   "metadata": {},
   "source": [
    "This function simulates a full game based on the provided trained model. The other parameters include the TreasureMaze object and the starting position of the pirate."
   ]
  },
  {
   "cell_type": "code",
   "execution_count": 6,
   "metadata": {},
   "outputs": [],
   "source": [
    "def play_game(model, qmaze, pirate_cell):\n",
    "    qmaze.reset(pirate_cell)\n",
    "    envstate = qmaze.observe()\n",
    "    while True:\n",
    "        prev_envstate = envstate\n",
    "        # get next action\n",
    "        q = model.predict(prev_envstate)\n",
    "        action = np.argmax(q[0])\n",
    "\n",
    "        # apply action, get rewards and new state\n",
    "        envstate, reward, game_status = qmaze.act(action)\n",
    "        if game_status == 'win':\n",
    "            return True\n",
    "        elif game_status == 'lose':\n",
    "            return False"
   ]
  },
  {
   "cell_type": "markdown",
   "metadata": {},
   "source": [
    "This function helps you to determine whether the pirate can win any game at all. If your maze is not well designed, the pirate may not win any game at all. In this case, your training would not yield any result. The provided maze in this notebook ensures that there is a path to win and you can run this method to check."
   ]
  },
  {
   "cell_type": "code",
   "execution_count": 7,
   "metadata": {},
   "outputs": [],
   "source": [
    "def completion_check(model, qmaze):\n",
    "    for cell in qmaze.free_cells:\n",
    "        if not qmaze.valid_actions(cell):\n",
    "            return False\n",
    "        if not play_game(model, qmaze, cell):\n",
    "            return False\n",
    "    return True"
   ]
  },
  {
   "cell_type": "markdown",
   "metadata": {},
   "source": [
    "The code you have been given in this block will build the neural network model. Review the code and note the number of layers, as well as the activation, optimizer, and loss functions that are used to train the model."
   ]
  },
  {
   "cell_type": "code",
   "execution_count": 8,
   "metadata": {},
   "outputs": [],
   "source": [
    "def build_model(maze):\n",
    "    model = Sequential()\n",
    "    model.add(Dense(maze.size, input_shape=(maze.size,)))\n",
    "    model.add(PReLU())\n",
    "    model.add(Dense(maze.size))\n",
    "    model.add(PReLU())\n",
    "    model.add(Dense(num_actions))\n",
    "    model.compile(optimizer='adam', loss='mse')\n",
    "    return model"
   ]
  },
  {
   "cell_type": "markdown",
   "metadata": {},
   "source": [
    "# #TODO: Complete the Q-Training Algorithm Code Block\n",
    "\n",
    "This is your deep Q-learning implementation. The goal of your deep Q-learning implementation is to find the best possible navigation sequence that results in reaching the treasure cell while maximizing the reward. In your implementation, you need to determine the optimal number of epochs to achieve a 100% win rate.\n",
    "\n",
    "You will need to complete the section starting with #pseudocode. The pseudocode has been included for you."
   ]
  },
  {
   "cell_type": "code",
   "execution_count": 9,
   "metadata": {},
   "outputs": [],
   "source": [
    "def qtrain(model, maze, **opt):\n",
    "\n",
    "    # exploration factor\n",
    "    global epsilon \n",
    "\n",
    "    # number of epochs\n",
    "    n_epoch = opt.get('n_epoch', 15000)\n",
    "\n",
    "    # maximum memory to store episodes\n",
    "    max_memory = opt.get('max_memory', 1000)\n",
    "\n",
    "    # maximum data size for training\n",
    "    data_size = opt.get('data_size', 50)\n",
    "\n",
    "    # start time\n",
    "    start_time = datetime.datetime.now()\n",
    "\n",
    "    # Construct environment/game from numpy array: maze (see above)\n",
    "    qmaze = TreasureMaze(maze)\n",
    "\n",
    "    # Initialize experience replay object\n",
    "    experience = GameExperience(model, max_memory=max_memory)\n",
    "    \n",
    "    win_history = []   # history of win/lose game\n",
    "    hsize = qmaze.maze.size//2   # history window size\n",
    "    win_rate = 0.0\n",
    "    \n",
    "    # pseudocode:\n",
    "    # For each epoch:\n",
    "    #    Agent_cell = randomly select a free cell\n",
    "    #    Reset the maze with agent set to above position\n",
    "    #    Hint: Review the reset method in the TreasureMaze.py class.\n",
    "    #    envstate = Environment.current_state\n",
    "    #    Hint: Review the observe method in the TreasureMaze.py class.\n",
    "    #    While state is not game over:\n",
    "    #        previous_envstate = envstate\n",
    "    #        Action = randomly choose action (left, right, up, down) either by exploration or by exploitation\n",
    "    #        envstate, reward, game_status = qmaze.act(action)\n",
    "    #    Hint: Review the act method in the TreasureMaze.py class.\n",
    "    #        episode = [previous_envstate, action, reward, envstate, game_status]\n",
    "    #        Store episode in Experience replay object\n",
    "    #    Hint: Review the remember method in the GameExperience.py class.\n",
    "    #        Train neural network model and evaluate loss\n",
    "    #    Hint: Call GameExperience.get_data to retrieve training data (input and target) and pass to model.fit method \n",
    "    #          to train the model. You can call model.evaluate to determine loss.\n",
    "    #    If the win rate is above the threshold and your model passes the completion check, that would be your epoch.\n",
    "    \n",
    "    n_episodes = 0\n",
    "    for epoch in range(n_epoch):\n",
    "        game_over = False\n",
    "        \n",
    "        cell = random.choice(qmaze.free_cells)\n",
    "        qmaze.reset(cell)\n",
    "        envstate = qmaze.observe()\n",
    "        prev_envstate = envstate\n",
    "                \n",
    "        while not game_over:\n",
    "            valid_actions = qmaze.valid_actions() # Get available actions\n",
    "            if random.random() < epsilon:  # Exploration\n",
    "                action = random.choice(valid_actions)\n",
    "            else: # Exploitation\n",
    "                q = model.predict(envstate)[0]\n",
    "                action = np.argmax(q)\n",
    "             \n",
    "            # Take the action and observe the outcome:\n",
    "            envstate, reward, game_status = qmaze.act(action)\n",
    "            \n",
    "            # Store experience\n",
    "            episode = [prev_envstate, action, reward, envstate, game_status]\n",
    "            experience.remember(episode)\n",
    "            \n",
    "            # Update stats\n",
    "            prev_envstate = envstate\n",
    "            if game_status == 'win':\n",
    "                win_history.append(1)\n",
    "            elif game_status == 'lose':\n",
    "                win_history.append(0)\n",
    "            game_over = game_status != 'not_over'\n",
    "            \n",
    "            #Train the Model\n",
    "            inputs, targets = experience.get_data(data_size=data_size)\n",
    "            history = model.fit(inputs, targets, epochs=1, batch_size=16, verbose=0)\n",
    "            loss = history.history['loss'][0] \n",
    "            \n",
    "            n_episodes += 1\n",
    "            \n",
    "        # Calculate win rate and adjust epsilon\n",
    "        win_rate = sum(win_history[-hsize:]) / hsize\n",
    "\n",
    "        #Print the epoch, loss, episodes, win count, and win rate for each epoch\n",
    "        dt = datetime.datetime.now() - start_time\n",
    "        t = format_time(dt.total_seconds())\n",
    "        template = \"Epoch: {:03d}/{:d} | Loss: {:.4f} | Episodes: {:d} | Win count: {:d} | Win rate: {:.3f} | time: {}\"\n",
    "        print(template.format(epoch, n_epoch-1, loss, n_episodes, sum(win_history), win_rate, t))\n",
    "        # We simply check if training has exhausted all free cells and if in all\n",
    "        # cases the agent won.\n",
    "        if win_rate > 0.9 : epsilon = 0.05\n",
    "        if sum(win_history[-hsize:]) == hsize and completion_check(model, qmaze):\n",
    "            print(\"Reached 100%% win rate at epoch: %d\" % (epoch,))\n",
    "            break\n",
    "    \n",
    "    \n",
    "    # Determine the total time for training\n",
    "    dt = datetime.datetime.now() - start_time\n",
    "    seconds = dt.total_seconds()\n",
    "    t = format_time(seconds)\n",
    "\n",
    "    print(\"n_epoch: %d, max_mem: %d, data: %d, time: %s\" % (epoch, max_memory, data_size, t))\n",
    "    return seconds\n",
    "\n",
    "# This is a small utility for printing readable time strings:\n",
    "def format_time(seconds):\n",
    "    if seconds < 400:\n",
    "        s = float(seconds)\n",
    "        return \"%.1f seconds\" % (s,)\n",
    "    elif seconds < 4000:\n",
    "        m = seconds / 60.0\n",
    "        return \"%.2f minutes\" % (m,)\n",
    "    else:\n",
    "        h = seconds / 3600.0\n",
    "        return \"%.2f hours\" % (h,)"
   ]
  },
  {
   "cell_type": "markdown",
   "metadata": {},
   "source": [
    "## Test Your Model\n",
    "\n",
    "Now we will start testing the deep Q-learning implementation. To begin, select **Cell**, then **Run All** from the menu bar. This will run your notebook. As it runs, you should see output begin to appear beneath the next few cells. The code below creates an instance of TreasureMaze."
   ]
  },
  {
   "cell_type": "code",
   "execution_count": 10,
   "metadata": {},
   "outputs": [
    {
     "data": {
      "text/plain": [
       "<matplotlib.image.AxesImage at 0x265b847fb00>"
      ]
     },
     "execution_count": 10,
     "metadata": {},
     "output_type": "execute_result"
    },
    {
     "data": {
      "image/png": "[encoded data removed]",
      "text/plain": [
       "<Figure size 432x288 with 1 Axes>"
      ]
     },
     "metadata": {
      "needs_background": "light"
     },
     "output_type": "display_data"
    }
   ],
   "source": [
    "qmaze = TreasureMaze(maze)\n",
    "show(qmaze)"
   ]
  },
  {
   "cell_type": "markdown",
   "metadata": {},
   "source": [
    "In the next code block, you will build your model and train it using deep Q-learning. Note: This step takes several minutes to fully run."
   ]
  },
  {
   "cell_type": "code",
   "execution_count": 11,
   "metadata": {},
   "outputs": [
    {
     "name": "stdout",
     "output_type": "stream",
     "text": [
      "Epoch: 000/999 | Loss: 0.0010 | Episodes: 138 | Win count: 0 | Win rate: 0.000 | time: 2.5 seconds\n",
      "Epoch: 001/999 | Loss: 0.0008 | Episodes: 272 | Win count: 0 | Win rate: 0.000 | time: 4.8 seconds\n",
      "Epoch: 002/999 | Loss: 0.0011 | Episodes: 422 | Win count: 0 | Win rate: 0.000 | time: 7.5 seconds\n",
      "Epoch: 003/999 | Loss: 0.0012 | Episodes: 558 | Win count: 0 | Win rate: 0.000 | time: 9.8 seconds\n",
      "Epoch: 004/999 | Loss: 0.0010 | Episodes: 564 | Win count: 1 | Win rate: 0.031 | time: 9.9 seconds\n",
      "Epoch: 005/999 | Loss: 0.0001 | Episodes: 708 | Win count: 1 | Win rate: 0.031 | time: 12.3 seconds\n",
      "Epoch: 006/999 | Loss: 0.0013 | Episodes: 852 | Win count: 1 | Win rate: 0.031 | time: 15.0 seconds\n",
      "Epoch: 007/999 | Loss: 0.0007 | Episodes: 986 | Win count: 1 | Win rate: 0.031 | time: 17.5 seconds\n",
      "Epoch: 008/999 | Loss: 0.0007 | Episodes: 1088 | Win count: 2 | Win rate: 0.062 | time: 19.4 seconds\n",
      "Epoch: 009/999 | Loss: 0.0010 | Episodes: 1232 | Win count: 2 | Win rate: 0.062 | time: 22.0 seconds\n",
      "Epoch: 010/999 | Loss: 0.0009 | Episodes: 1371 | Win count: 2 | Win rate: 0.062 | time: 24.4 seconds\n",
      "Epoch: 011/999 | Loss: 0.0007 | Episodes: 1511 | Win count: 2 | Win rate: 0.062 | time: 27.0 seconds\n",
      "Epoch: 012/999 | Loss: 0.0009 | Episodes: 1645 | Win count: 2 | Win rate: 0.062 | time: 29.4 seconds\n",
      "Epoch: 013/999 | Loss: 0.0002 | Episodes: 1788 | Win count: 2 | Win rate: 0.062 | time: 32.0 seconds\n",
      "Epoch: 014/999 | Loss: 0.0009 | Episodes: 1795 | Win count: 3 | Win rate: 0.094 | time: 32.1 seconds\n",
      "Epoch: 015/999 | Loss: 0.0004 | Episodes: 1943 | Win count: 3 | Win rate: 0.094 | time: 34.7 seconds\n",
      "Epoch: 016/999 | Loss: 0.0011 | Episodes: 2085 | Win count: 3 | Win rate: 0.094 | time: 37.2 seconds\n",
      "Epoch: 017/999 | Loss: 0.0010 | Episodes: 2089 | Win count: 4 | Win rate: 0.125 | time: 37.3 seconds\n",
      "Epoch: 018/999 | Loss: 0.0009 | Episodes: 2163 | Win count: 5 | Win rate: 0.156 | time: 38.6 seconds\n",
      "Epoch: 019/999 | Loss: 0.0015 | Episodes: 2299 | Win count: 5 | Win rate: 0.156 | time: 40.9 seconds\n",
      "Epoch: 020/999 | Loss: 0.0012 | Episodes: 2436 | Win count: 5 | Win rate: 0.156 | time: 43.3 seconds\n",
      "Epoch: 021/999 | Loss: 0.0012 | Episodes: 2586 | Win count: 5 | Win rate: 0.156 | time: 46.5 seconds\n",
      "Epoch: 022/999 | Loss: 0.0011 | Episodes: 2725 | Win count: 5 | Win rate: 0.156 | time: 49.1 seconds\n",
      "Epoch: 023/999 | Loss: 0.0012 | Episodes: 2729 | Win count: 6 | Win rate: 0.188 | time: 49.2 seconds\n",
      "Epoch: 024/999 | Loss: 0.0013 | Episodes: 2876 | Win count: 6 | Win rate: 0.188 | time: 52.0 seconds\n",
      "Epoch: 025/999 | Loss: 0.0007 | Episodes: 3017 | Win count: 6 | Win rate: 0.188 | time: 54.5 seconds\n",
      "Epoch: 026/999 | Loss: 0.0015 | Episodes: 3156 | Win count: 6 | Win rate: 0.188 | time: 57.0 seconds\n",
      "Epoch: 027/999 | Loss: 0.0013 | Episodes: 3295 | Win count: 6 | Win rate: 0.188 | time: 59.4 seconds\n",
      "Epoch: 028/999 | Loss: 0.0014 | Episodes: 3434 | Win count: 6 | Win rate: 0.188 | time: 61.7 seconds\n",
      "Epoch: 029/999 | Loss: 0.0006 | Episodes: 3578 | Win count: 6 | Win rate: 0.188 | time: 64.2 seconds\n",
      "Epoch: 030/999 | Loss: 0.0017 | Episodes: 3734 | Win count: 7 | Win rate: 0.219 | time: 66.9 seconds\n",
      "Epoch: 031/999 | Loss: 0.0009 | Episodes: 3879 | Win count: 7 | Win rate: 0.219 | time: 69.4 seconds\n",
      "Epoch: 032/999 | Loss: 0.0015 | Episodes: 3883 | Win count: 8 | Win rate: 0.250 | time: 69.5 seconds\n",
      "Epoch: 033/999 | Loss: 0.0007 | Episodes: 3890 | Win count: 9 | Win rate: 0.281 | time: 69.6 seconds\n",
      "Epoch: 034/999 | Loss: 0.0014 | Episodes: 3937 | Win count: 10 | Win rate: 0.312 | time: 70.4 seconds\n",
      "Epoch: 035/999 | Loss: 0.0014 | Episodes: 3962 | Win count: 11 | Win rate: 0.344 | time: 70.8 seconds\n",
      "Epoch: 036/999 | Loss: 0.0024 | Episodes: 4095 | Win count: 12 | Win rate: 0.344 | time: 73.2 seconds\n",
      "Epoch: 037/999 | Loss: 0.0120 | Episodes: 4120 | Win count: 13 | Win rate: 0.375 | time: 73.6 seconds\n",
      "Epoch: 038/999 | Loss: 0.0163 | Episodes: 4162 | Win count: 14 | Win rate: 0.406 | time: 74.3 seconds\n",
      "Epoch: 039/999 | Loss: 0.0023 | Episodes: 4165 | Win count: 15 | Win rate: 0.438 | time: 74.4 seconds\n",
      "Epoch: 040/999 | Loss: 0.0010 | Episodes: 4305 | Win count: 15 | Win rate: 0.406 | time: 76.8 seconds\n",
      "Epoch: 041/999 | Loss: 0.0020 | Episodes: 4312 | Win count: 16 | Win rate: 0.438 | time: 76.9 seconds\n",
      "Epoch: 042/999 | Loss: 0.0038 | Episodes: 4457 | Win count: 16 | Win rate: 0.438 | time: 79.5 seconds\n",
      "Epoch: 043/999 | Loss: 0.0010 | Episodes: 4596 | Win count: 16 | Win rate: 0.438 | time: 81.9 seconds\n",
      "Epoch: 044/999 | Loss: 0.0012 | Episodes: 4616 | Win count: 17 | Win rate: 0.469 | time: 82.3 seconds\n",
      "Epoch: 045/999 | Loss: 0.0013 | Episodes: 4756 | Win count: 17 | Win rate: 0.469 | time: 84.7 seconds\n",
      "Epoch: 046/999 | Loss: 0.0006 | Episodes: 4898 | Win count: 17 | Win rate: 0.438 | time: 87.1 seconds\n",
      "Epoch: 047/999 | Loss: 0.0014 | Episodes: 5039 | Win count: 17 | Win rate: 0.438 | time: 89.6 seconds\n",
      "Epoch: 048/999 | Loss: 0.0009 | Episodes: 5057 | Win count: 18 | Win rate: 0.469 | time: 89.9 seconds\n",
      "Epoch: 049/999 | Loss: 0.0007 | Episodes: 5197 | Win count: 18 | Win rate: 0.438 | time: 92.4 seconds\n",
      "Epoch: 050/999 | Loss: 0.0006 | Episodes: 5211 | Win count: 19 | Win rate: 0.438 | time: 92.7 seconds\n",
      "Epoch: 051/999 | Loss: 0.0009 | Episodes: 5231 | Win count: 20 | Win rate: 0.469 | time: 93.0 seconds\n",
      "Epoch: 052/999 | Loss: 0.0009 | Episodes: 5252 | Win count: 21 | Win rate: 0.500 | time: 93.4 seconds\n",
      "Epoch: 053/999 | Loss: 0.0008 | Episodes: 5263 | Win count: 22 | Win rate: 0.531 | time: 93.6 seconds\n",
      "Epoch: 054/999 | Loss: 0.0010 | Episodes: 5278 | Win count: 23 | Win rate: 0.562 | time: 93.9 seconds\n",
      "Epoch: 055/999 | Loss: 0.0018 | Episodes: 5298 | Win count: 24 | Win rate: 0.562 | time: 94.2 seconds\n",
      "Epoch: 056/999 | Loss: 0.0017 | Episodes: 5442 | Win count: 24 | Win rate: 0.562 | time: 96.8 seconds\n",
      "Epoch: 057/999 | Loss: 0.0010 | Episodes: 5473 | Win count: 25 | Win rate: 0.594 | time: 97.3 seconds\n",
      "Epoch: 058/999 | Loss: 0.0005 | Episodes: 5615 | Win count: 25 | Win rate: 0.594 | time: 99.8 seconds\n",
      "Epoch: 059/999 | Loss: 0.0007 | Episodes: 5757 | Win count: 25 | Win rate: 0.594 | time: 102.3 seconds\n",
      "Epoch: 060/999 | Loss: 0.0008 | Episodes: 5758 | Win count: 26 | Win rate: 0.625 | time: 102.3 seconds\n",
      "Epoch: 061/999 | Loss: 0.0005 | Episodes: 5902 | Win count: 26 | Win rate: 0.625 | time: 104.9 seconds\n",
      "Epoch: 062/999 | Loss: 0.0005 | Episodes: 6001 | Win count: 27 | Win rate: 0.625 | time: 106.6 seconds\n",
      "Epoch: 063/999 | Loss: 0.0020 | Episodes: 6081 | Win count: 28 | Win rate: 0.656 | time: 108.0 seconds\n",
      "Epoch: 064/999 | Loss: 0.0016 | Episodes: 6101 | Win count: 29 | Win rate: 0.656 | time: 108.3 seconds\n",
      "Epoch: 065/999 | Loss: 0.0017 | Episodes: 6103 | Win count: 30 | Win rate: 0.656 | time: 108.3 seconds\n",
      "Epoch: 066/999 | Loss: 0.0013 | Episodes: 6110 | Win count: 31 | Win rate: 0.656 | time: 108.5 seconds\n",
      "Epoch: 067/999 | Loss: 0.0020 | Episodes: 6128 | Win count: 32 | Win rate: 0.656 | time: 108.8 seconds\n",
      "Epoch: 068/999 | Loss: 0.0015 | Episodes: 6140 | Win count: 33 | Win rate: 0.656 | time: 109.0 seconds\n",
      "Epoch: 069/999 | Loss: 0.0013 | Episodes: 6172 | Win count: 34 | Win rate: 0.656 | time: 109.5 seconds\n",
      "Epoch: 070/999 | Loss: 0.0009 | Episodes: 6203 | Win count: 35 | Win rate: 0.656 | time: 110.0 seconds\n",
      "Epoch: 071/999 | Loss: 0.0019 | Episodes: 6217 | Win count: 36 | Win rate: 0.656 | time: 110.2 seconds\n",
      "Epoch: 072/999 | Loss: 0.0021 | Episodes: 6292 | Win count: 37 | Win rate: 0.688 | time: 111.6 seconds\n",
      "Epoch: 073/999 | Loss: 0.0011 | Episodes: 6301 | Win count: 38 | Win rate: 0.688 | time: 111.7 seconds\n",
      "Epoch: 074/999 | Loss: 0.0019 | Episodes: 6313 | Win count: 39 | Win rate: 0.719 | time: 111.9 seconds\n",
      "Epoch: 075/999 | Loss: 0.0013 | Episodes: 6333 | Win count: 40 | Win rate: 0.750 | time: 112.3 seconds\n",
      "Epoch: 076/999 | Loss: 0.0013 | Episodes: 6340 | Win count: 41 | Win rate: 0.750 | time: 112.4 seconds\n",
      "Epoch: 077/999 | Loss: 0.0015 | Episodes: 6350 | Win count: 42 | Win rate: 0.781 | time: 112.6 seconds\n",
      "Epoch: 078/999 | Loss: 0.0014 | Episodes: 6357 | Win count: 43 | Win rate: 0.812 | time: 112.7 seconds\n",
      "Epoch: 079/999 | Loss: 0.0007 | Episodes: 6370 | Win count: 44 | Win rate: 0.844 | time: 113.0 seconds\n",
      "Epoch: 080/999 | Loss: 0.0008 | Episodes: 6442 | Win count: 45 | Win rate: 0.844 | time: 114.2 seconds\n"
     ]
    },
    {
     "name": "stdout",
     "output_type": "stream",
     "text": [
      "Epoch: 081/999 | Loss: 0.0015 | Episodes: 6501 | Win count: 46 | Win rate: 0.875 | time: 115.2 seconds\n",
      "Epoch: 082/999 | Loss: 0.0008 | Episodes: 6502 | Win count: 47 | Win rate: 0.875 | time: 115.2 seconds\n",
      "Epoch: 083/999 | Loss: 0.0009 | Episodes: 6538 | Win count: 48 | Win rate: 0.875 | time: 115.9 seconds\n",
      "Epoch: 084/999 | Loss: 0.0011 | Episodes: 6573 | Win count: 49 | Win rate: 0.875 | time: 116.5 seconds\n",
      "Epoch: 085/999 | Loss: 0.0013 | Episodes: 6584 | Win count: 50 | Win rate: 0.875 | time: 116.7 seconds\n",
      "Epoch: 086/999 | Loss: 0.0009 | Episodes: 6609 | Win count: 51 | Win rate: 0.875 | time: 117.1 seconds\n",
      "Epoch: 087/999 | Loss: 0.0012 | Episodes: 6643 | Win count: 52 | Win rate: 0.875 | time: 117.7 seconds\n",
      "Epoch: 088/999 | Loss: 0.0014 | Episodes: 6652 | Win count: 53 | Win rate: 0.906 | time: 117.9 seconds\n",
      "Epoch: 089/999 | Loss: 0.0010 | Episodes: 6678 | Win count: 54 | Win rate: 0.906 | time: 118.3 seconds\n",
      "Epoch: 090/999 | Loss: 0.0011 | Episodes: 6708 | Win count: 55 | Win rate: 0.938 | time: 118.9 seconds\n",
      "Epoch: 091/999 | Loss: 0.0006 | Episodes: 6717 | Win count: 56 | Win rate: 0.969 | time: 119.0 seconds\n",
      "Epoch: 092/999 | Loss: 0.0007 | Episodes: 6724 | Win count: 57 | Win rate: 0.969 | time: 119.1 seconds\n",
      "Epoch: 093/999 | Loss: 0.0014 | Episodes: 6741 | Win count: 58 | Win rate: 1.000 | time: 119.4 seconds\n",
      "Epoch: 094/999 | Loss: 0.0007 | Episodes: 6759 | Win count: 59 | Win rate: 1.000 | time: 119.7 seconds\n",
      "Epoch: 095/999 | Loss: 0.0005 | Episodes: 6783 | Win count: 60 | Win rate: 1.000 | time: 120.2 seconds\n",
      "Epoch: 096/999 | Loss: 0.0011 | Episodes: 6798 | Win count: 61 | Win rate: 1.000 | time: 120.5 seconds\n",
      "Epoch: 097/999 | Loss: 0.0008 | Episodes: 6842 | Win count: 62 | Win rate: 1.000 | time: 121.3 seconds\n",
      "Epoch: 098/999 | Loss: 0.0007 | Episodes: 6844 | Win count: 63 | Win rate: 1.000 | time: 121.4 seconds\n",
      "Epoch: 099/999 | Loss: 0.0009 | Episodes: 6863 | Win count: 64 | Win rate: 1.000 | time: 121.9 seconds\n",
      "Epoch: 100/999 | Loss: 0.0008 | Episodes: 6889 | Win count: 65 | Win rate: 1.000 | time: 122.4 seconds\n",
      "Epoch: 101/999 | Loss: 0.0011 | Episodes: 6902 | Win count: 66 | Win rate: 1.000 | time: 122.7 seconds\n",
      "Epoch: 102/999 | Loss: 0.0009 | Episodes: 6949 | Win count: 67 | Win rate: 1.000 | time: 123.5 seconds\n",
      "Epoch: 103/999 | Loss: 0.0010 | Episodes: 6974 | Win count: 68 | Win rate: 1.000 | time: 124.0 seconds\n",
      "Epoch: 104/999 | Loss: 0.0017 | Episodes: 6985 | Win count: 69 | Win rate: 1.000 | time: 124.3 seconds\n",
      "Epoch: 105/999 | Loss: 0.0012 | Episodes: 6986 | Win count: 70 | Win rate: 1.000 | time: 124.3 seconds\n",
      "Epoch: 106/999 | Loss: 0.0012 | Episodes: 7003 | Win count: 71 | Win rate: 1.000 | time: 124.7 seconds\n",
      "Epoch: 107/999 | Loss: 0.0010 | Episodes: 7031 | Win count: 72 | Win rate: 1.000 | time: 125.2 seconds\n",
      "Epoch: 108/999 | Loss: 0.0011 | Episodes: 7055 | Win count: 73 | Win rate: 1.000 | time: 125.6 seconds\n",
      "Epoch: 109/999 | Loss: 0.0009 | Episodes: 7078 | Win count: 74 | Win rate: 1.000 | time: 126.1 seconds\n",
      "Epoch: 110/999 | Loss: 0.0013 | Episodes: 7080 | Win count: 75 | Win rate: 1.000 | time: 126.2 seconds\n",
      "Epoch: 111/999 | Loss: 0.0011 | Episodes: 7093 | Win count: 76 | Win rate: 1.000 | time: 126.4 seconds\n",
      "Epoch: 112/999 | Loss: 0.0007 | Episodes: 7106 | Win count: 77 | Win rate: 1.000 | time: 126.8 seconds\n",
      "Epoch: 113/999 | Loss: 0.0008 | Episodes: 7113 | Win count: 78 | Win rate: 1.000 | time: 127.0 seconds\n",
      "Epoch: 114/999 | Loss: 0.0007 | Episodes: 7140 | Win count: 79 | Win rate: 1.000 | time: 127.5 seconds\n",
      "Epoch: 115/999 | Loss: 0.0009 | Episodes: 7159 | Win count: 80 | Win rate: 1.000 | time: 127.9 seconds\n",
      "Epoch: 116/999 | Loss: 0.0007 | Episodes: 7178 | Win count: 81 | Win rate: 1.000 | time: 128.3 seconds\n",
      "Epoch: 117/999 | Loss: 0.0007 | Episodes: 7200 | Win count: 82 | Win rate: 1.000 | time: 128.7 seconds\n",
      "Epoch: 118/999 | Loss: 0.0005 | Episodes: 7207 | Win count: 83 | Win rate: 1.000 | time: 128.9 seconds\n",
      "Epoch: 119/999 | Loss: 0.0004 | Episodes: 7221 | Win count: 84 | Win rate: 1.000 | time: 129.2 seconds\n",
      "Epoch: 120/999 | Loss: 0.0007 | Episodes: 7228 | Win count: 85 | Win rate: 1.000 | time: 129.3 seconds\n",
      "Epoch: 121/999 | Loss: 0.0004 | Episodes: 7261 | Win count: 86 | Win rate: 1.000 | time: 129.9 seconds\n",
      "Epoch: 122/999 | Loss: 0.0005 | Episodes: 7263 | Win count: 87 | Win rate: 1.000 | time: 130.0 seconds\n",
      "Epoch: 123/999 | Loss: 0.0009 | Episodes: 7270 | Win count: 88 | Win rate: 1.000 | time: 130.2 seconds\n",
      "Epoch: 124/999 | Loss: 0.0005 | Episodes: 7289 | Win count: 89 | Win rate: 1.000 | time: 130.5 seconds\n",
      "Epoch: 125/999 | Loss: 0.0003 | Episodes: 7294 | Win count: 90 | Win rate: 1.000 | time: 130.7 seconds\n",
      "Epoch: 126/999 | Loss: 0.0005 | Episodes: 7305 | Win count: 91 | Win rate: 1.000 | time: 130.9 seconds\n",
      "Epoch: 127/999 | Loss: 0.0007 | Episodes: 7306 | Win count: 92 | Win rate: 1.000 | time: 131.0 seconds\n",
      "Epoch: 128/999 | Loss: 0.0008 | Episodes: 7311 | Win count: 93 | Win rate: 1.000 | time: 131.1 seconds\n",
      "Epoch: 129/999 | Loss: 0.0007 | Episodes: 7323 | Win count: 94 | Win rate: 1.000 | time: 131.4 seconds\n",
      "Epoch: 130/999 | Loss: 0.0010 | Episodes: 7344 | Win count: 95 | Win rate: 1.000 | time: 131.8 seconds\n",
      "Epoch: 131/999 | Loss: 0.0004 | Episodes: 7351 | Win count: 96 | Win rate: 1.000 | time: 132.0 seconds\n",
      "Epoch: 132/999 | Loss: 0.0003 | Episodes: 7379 | Win count: 97 | Win rate: 1.000 | time: 132.5 seconds\n",
      "Epoch: 133/999 | Loss: 0.0001 | Episodes: 7397 | Win count: 98 | Win rate: 1.000 | time: 132.9 seconds\n",
      "Epoch: 134/999 | Loss: 0.0001 | Episodes: 7414 | Win count: 99 | Win rate: 1.000 | time: 133.2 seconds\n",
      "Epoch: 135/999 | Loss: 0.0001 | Episodes: 7446 | Win count: 100 | Win rate: 1.000 | time: 133.8 seconds\n",
      "Epoch: 136/999 | Loss: 0.0001 | Episodes: 7454 | Win count: 101 | Win rate: 1.000 | time: 134.0 seconds\n",
      "Epoch: 137/999 | Loss: 0.0001 | Episodes: 7473 | Win count: 102 | Win rate: 1.000 | time: 134.4 seconds\n",
      "Epoch: 138/999 | Loss: 0.0006 | Episodes: 7480 | Win count: 103 | Win rate: 1.000 | time: 134.6 seconds\n",
      "Epoch: 139/999 | Loss: 0.0001 | Episodes: 7488 | Win count: 104 | Win rate: 1.000 | time: 134.8 seconds\n",
      "Epoch: 140/999 | Loss: 0.0001 | Episodes: 7504 | Win count: 105 | Win rate: 1.000 | time: 135.2 seconds\n",
      "Epoch: 141/999 | Loss: 0.0010 | Episodes: 7523 | Win count: 106 | Win rate: 1.000 | time: 135.6 seconds\n",
      "Epoch: 142/999 | Loss: 0.0001 | Episodes: 7548 | Win count: 107 | Win rate: 1.000 | time: 136.1 seconds\n",
      "Epoch: 143/999 | Loss: 0.0000 | Episodes: 7554 | Win count: 108 | Win rate: 1.000 | time: 136.3 seconds\n",
      "Epoch: 144/999 | Loss: 0.0000 | Episodes: 7578 | Win count: 109 | Win rate: 1.000 | time: 136.9 seconds\n",
      "Epoch: 145/999 | Loss: 0.0004 | Episodes: 7586 | Win count: 110 | Win rate: 1.000 | time: 137.1 seconds\n",
      "Epoch: 146/999 | Loss: 0.0000 | Episodes: 7593 | Win count: 111 | Win rate: 1.000 | time: 137.4 seconds\n",
      "Epoch: 147/999 | Loss: 0.0003 | Episodes: 7612 | Win count: 112 | Win rate: 1.000 | time: 137.8 seconds\n",
      "Epoch: 148/999 | Loss: 0.0000 | Episodes: 7632 | Win count: 113 | Win rate: 1.000 | time: 138.3 seconds\n",
      "Epoch: 149/999 | Loss: 0.0000 | Episodes: 7639 | Win count: 114 | Win rate: 1.000 | time: 138.5 seconds\n",
      "Epoch: 150/999 | Loss: 0.0003 | Episodes: 7656 | Win count: 115 | Win rate: 1.000 | time: 138.9 seconds\n",
      "Epoch: 151/999 | Loss: 0.0000 | Episodes: 7686 | Win count: 116 | Win rate: 1.000 | time: 139.5 seconds\n",
      "Epoch: 152/999 | Loss: 0.0001 | Episodes: 7688 | Win count: 117 | Win rate: 1.000 | time: 139.5 seconds\n",
      "Epoch: 153/999 | Loss: 0.0002 | Episodes: 7721 | Win count: 118 | Win rate: 1.000 | time: 140.1 seconds\n",
      "Epoch: 154/999 | Loss: 0.0003 | Episodes: 7725 | Win count: 119 | Win rate: 1.000 | time: 140.3 seconds\n",
      "Epoch: 155/999 | Loss: 0.0001 | Episodes: 7750 | Win count: 120 | Win rate: 1.000 | time: 140.8 seconds\n",
      "Epoch: 156/999 | Loss: 0.0002 | Episodes: 7775 | Win count: 121 | Win rate: 1.000 | time: 141.4 seconds\n",
      "Epoch: 157/999 | Loss: 0.0004 | Episodes: 7798 | Win count: 122 | Win rate: 1.000 | time: 141.8 seconds\n",
      "Epoch: 158/999 | Loss: 0.0005 | Episodes: 7829 | Win count: 123 | Win rate: 1.000 | time: 142.4 seconds\n",
      "Epoch: 159/999 | Loss: 0.0002 | Episodes: 7839 | Win count: 124 | Win rate: 1.000 | time: 142.6 seconds\n"
     ]
    },
    {
     "name": "stdout",
     "output_type": "stream",
     "text": [
      "Epoch: 160/999 | Loss: 0.0004 | Episodes: 7848 | Win count: 125 | Win rate: 1.000 | time: 142.8 seconds\n",
      "Epoch: 161/999 | Loss: 0.0003 | Episodes: 7870 | Win count: 126 | Win rate: 1.000 | time: 143.2 seconds\n",
      "Epoch: 162/999 | Loss: 0.0001 | Episodes: 7872 | Win count: 127 | Win rate: 1.000 | time: 143.2 seconds\n",
      "Epoch: 163/999 | Loss: 0.0005 | Episodes: 7899 | Win count: 128 | Win rate: 1.000 | time: 143.7 seconds\n",
      "Epoch: 164/999 | Loss: 0.0004 | Episodes: 7907 | Win count: 129 | Win rate: 1.000 | time: 143.9 seconds\n",
      "Epoch: 165/999 | Loss: 0.0006 | Episodes: 7908 | Win count: 130 | Win rate: 1.000 | time: 144.0 seconds\n",
      "Epoch: 166/999 | Loss: 0.0003 | Episodes: 7919 | Win count: 131 | Win rate: 1.000 | time: 144.2 seconds\n",
      "Epoch: 167/999 | Loss: 0.0001 | Episodes: 7928 | Win count: 132 | Win rate: 1.000 | time: 144.4 seconds\n",
      "Epoch: 168/999 | Loss: 0.0016 | Episodes: 7960 | Win count: 133 | Win rate: 1.000 | time: 144.9 seconds\n",
      "Epoch: 169/999 | Loss: 0.0002 | Episodes: 7985 | Win count: 134 | Win rate: 1.000 | time: 145.4 seconds\n",
      "Epoch: 170/999 | Loss: 0.0009 | Episodes: 8012 | Win count: 135 | Win rate: 1.000 | time: 145.9 seconds\n",
      "Epoch: 171/999 | Loss: 0.0002 | Episodes: 8021 | Win count: 136 | Win rate: 1.000 | time: 146.1 seconds\n",
      "Epoch: 172/999 | Loss: 0.0003 | Episodes: 8033 | Win count: 137 | Win rate: 1.000 | time: 146.4 seconds\n",
      "Epoch: 173/999 | Loss: 0.0005 | Episodes: 8047 | Win count: 138 | Win rate: 1.000 | time: 146.8 seconds\n",
      "Epoch: 174/999 | Loss: 0.0007 | Episodes: 8072 | Win count: 139 | Win rate: 1.000 | time: 147.2 seconds\n",
      "Epoch: 175/999 | Loss: 0.0007 | Episodes: 8080 | Win count: 140 | Win rate: 1.000 | time: 147.5 seconds\n",
      "Epoch: 176/999 | Loss: 0.0005 | Episodes: 8099 | Win count: 141 | Win rate: 1.000 | time: 147.9 seconds\n",
      "Epoch: 177/999 | Loss: 0.0006 | Episodes: 8100 | Win count: 142 | Win rate: 1.000 | time: 148.0 seconds\n",
      "Epoch: 178/999 | Loss: 0.0002 | Episodes: 8102 | Win count: 143 | Win rate: 1.000 | time: 148.1 seconds\n",
      "Epoch: 179/999 | Loss: 0.0003 | Episodes: 8135 | Win count: 144 | Win rate: 1.000 | time: 148.7 seconds\n",
      "Epoch: 180/999 | Loss: 0.0002 | Episodes: 8163 | Win count: 145 | Win rate: 1.000 | time: 149.2 seconds\n",
      "Epoch: 181/999 | Loss: 0.0007 | Episodes: 8173 | Win count: 146 | Win rate: 1.000 | time: 149.6 seconds\n",
      "Epoch: 182/999 | Loss: 0.0005 | Episodes: 8206 | Win count: 147 | Win rate: 1.000 | time: 150.3 seconds\n",
      "Epoch: 183/999 | Loss: 0.0009 | Episodes: 8207 | Win count: 148 | Win rate: 1.000 | time: 150.4 seconds\n",
      "Epoch: 184/999 | Loss: 0.0005 | Episodes: 8211 | Win count: 149 | Win rate: 1.000 | time: 150.6 seconds\n",
      "Epoch: 185/999 | Loss: 0.0011 | Episodes: 8239 | Win count: 150 | Win rate: 1.000 | time: 151.2 seconds\n",
      "Epoch: 186/999 | Loss: 0.0007 | Episodes: 8256 | Win count: 151 | Win rate: 1.000 | time: 151.6 seconds\n",
      "Epoch: 187/999 | Loss: 0.0001 | Episodes: 8258 | Win count: 152 | Win rate: 1.000 | time: 151.7 seconds\n",
      "Epoch: 188/999 | Loss: 0.0005 | Episodes: 8267 | Win count: 153 | Win rate: 1.000 | time: 152.0 seconds\n",
      "Epoch: 189/999 | Loss: 0.0003 | Episodes: 8293 | Win count: 154 | Win rate: 1.000 | time: 152.6 seconds\n",
      "Epoch: 190/999 | Loss: 0.0001 | Episodes: 8322 | Win count: 155 | Win rate: 1.000 | time: 153.1 seconds\n",
      "Epoch: 191/999 | Loss: 0.0008 | Episodes: 8346 | Win count: 156 | Win rate: 1.000 | time: 153.7 seconds\n",
      "Epoch: 192/999 | Loss: 0.0012 | Episodes: 8376 | Win count: 157 | Win rate: 1.000 | time: 154.4 seconds\n",
      "Epoch: 193/999 | Loss: 0.0003 | Episodes: 8399 | Win count: 158 | Win rate: 1.000 | time: 154.8 seconds\n",
      "Epoch: 194/999 | Loss: 0.0008 | Episodes: 8424 | Win count: 159 | Win rate: 1.000 | time: 155.4 seconds\n",
      "Epoch: 195/999 | Loss: 0.0005 | Episodes: 8426 | Win count: 160 | Win rate: 1.000 | time: 155.5 seconds\n",
      "Epoch: 196/999 | Loss: 0.0000 | Episodes: 8450 | Win count: 161 | Win rate: 1.000 | time: 155.9 seconds\n",
      "Epoch: 197/999 | Loss: 0.0002 | Episodes: 8456 | Win count: 162 | Win rate: 1.000 | time: 156.1 seconds\n",
      "Epoch: 198/999 | Loss: 0.0007 | Episodes: 8469 | Win count: 163 | Win rate: 1.000 | time: 156.4 seconds\n",
      "Epoch: 199/999 | Loss: 0.0004 | Episodes: 8505 | Win count: 164 | Win rate: 1.000 | time: 157.1 seconds\n",
      "Epoch: 200/999 | Loss: 0.0006 | Episodes: 8509 | Win count: 165 | Win rate: 1.000 | time: 157.2 seconds\n",
      "Epoch: 201/999 | Loss: 0.0007 | Episodes: 8534 | Win count: 166 | Win rate: 1.000 | time: 157.7 seconds\n",
      "Epoch: 202/999 | Loss: 0.0008 | Episodes: 8541 | Win count: 167 | Win rate: 1.000 | time: 157.8 seconds\n",
      "Epoch: 203/999 | Loss: 0.0011 | Episodes: 8572 | Win count: 168 | Win rate: 1.000 | time: 158.5 seconds\n",
      "Epoch: 204/999 | Loss: 0.0009 | Episodes: 8580 | Win count: 169 | Win rate: 1.000 | time: 158.6 seconds\n",
      "Epoch: 205/999 | Loss: 0.0007 | Episodes: 8589 | Win count: 170 | Win rate: 1.000 | time: 158.9 seconds\n",
      "Epoch: 206/999 | Loss: 0.0008 | Episodes: 8613 | Win count: 171 | Win rate: 1.000 | time: 159.3 seconds\n",
      "Epoch: 207/999 | Loss: 0.0013 | Episodes: 8623 | Win count: 172 | Win rate: 1.000 | time: 159.6 seconds\n",
      "Epoch: 208/999 | Loss: 0.0007 | Episodes: 8625 | Win count: 173 | Win rate: 1.000 | time: 159.7 seconds\n",
      "Epoch: 209/999 | Loss: 0.0016 | Episodes: 8633 | Win count: 174 | Win rate: 1.000 | time: 159.9 seconds\n",
      "Epoch: 210/999 | Loss: 0.0012 | Episodes: 8662 | Win count: 175 | Win rate: 1.000 | time: 160.4 seconds\n",
      "Epoch: 211/999 | Loss: 0.0006 | Episodes: 8688 | Win count: 176 | Win rate: 1.000 | time: 160.9 seconds\n",
      "Epoch: 212/999 | Loss: 0.0009 | Episodes: 8690 | Win count: 177 | Win rate: 1.000 | time: 161.0 seconds\n",
      "Epoch: 213/999 | Loss: 0.0008 | Episodes: 8719 | Win count: 178 | Win rate: 1.000 | time: 161.6 seconds\n",
      "Epoch: 214/999 | Loss: 0.0004 | Episodes: 8723 | Win count: 179 | Win rate: 1.000 | time: 161.7 seconds\n",
      "Epoch: 215/999 | Loss: 0.0007 | Episodes: 8733 | Win count: 180 | Win rate: 1.000 | time: 161.9 seconds\n",
      "Epoch: 216/999 | Loss: 0.0009 | Episodes: 8763 | Win count: 181 | Win rate: 1.000 | time: 162.4 seconds\n",
      "Epoch: 217/999 | Loss: 0.0007 | Episodes: 8794 | Win count: 182 | Win rate: 1.000 | time: 163.2 seconds\n",
      "Epoch: 218/999 | Loss: 0.0007 | Episodes: 8819 | Win count: 183 | Win rate: 1.000 | time: 163.7 seconds\n",
      "Epoch: 219/999 | Loss: 0.0008 | Episodes: 8844 | Win count: 184 | Win rate: 1.000 | time: 164.3 seconds\n",
      "Epoch: 220/999 | Loss: 0.0001 | Episodes: 8854 | Win count: 185 | Win rate: 1.000 | time: 164.5 seconds\n",
      "Epoch: 221/999 | Loss: 0.0013 | Episodes: 8918 | Win count: 186 | Win rate: 1.000 | time: 165.7 seconds\n",
      "Epoch: 222/999 | Loss: 0.0008 | Episodes: 8927 | Win count: 187 | Win rate: 1.000 | time: 165.9 seconds\n",
      "Epoch: 223/999 | Loss: 0.0006 | Episodes: 8936 | Win count: 188 | Win rate: 1.000 | time: 166.1 seconds\n",
      "Epoch: 224/999 | Loss: 0.0010 | Episodes: 8944 | Win count: 189 | Win rate: 1.000 | time: 166.3 seconds\n",
      "Epoch: 225/999 | Loss: 0.0011 | Episodes: 8959 | Win count: 190 | Win rate: 1.000 | time: 166.6 seconds\n",
      "Epoch: 226/999 | Loss: 0.0010 | Episodes: 8991 | Win count: 191 | Win rate: 1.000 | time: 167.3 seconds\n",
      "Epoch: 227/999 | Loss: 0.0007 | Episodes: 9013 | Win count: 192 | Win rate: 1.000 | time: 167.7 seconds\n",
      "Epoch: 228/999 | Loss: 0.0005 | Episodes: 9025 | Win count: 193 | Win rate: 1.000 | time: 167.9 seconds\n",
      "Epoch: 229/999 | Loss: 0.0003 | Episodes: 9047 | Win count: 194 | Win rate: 1.000 | time: 168.3 seconds\n",
      "Epoch: 230/999 | Loss: 0.0007 | Episodes: 9049 | Win count: 195 | Win rate: 1.000 | time: 168.4 seconds\n",
      "Epoch: 231/999 | Loss: 0.0008 | Episodes: 9072 | Win count: 196 | Win rate: 1.000 | time: 168.9 seconds\n",
      "Epoch: 232/999 | Loss: 0.0008 | Episodes: 9097 | Win count: 197 | Win rate: 1.000 | time: 169.4 seconds\n",
      "Epoch: 233/999 | Loss: 0.0004 | Episodes: 9110 | Win count: 198 | Win rate: 1.000 | time: 169.7 seconds\n",
      "Epoch: 234/999 | Loss: 0.0003 | Episodes: 9138 | Win count: 199 | Win rate: 1.000 | time: 170.2 seconds\n",
      "Epoch: 235/999 | Loss: 0.0005 | Episodes: 9165 | Win count: 200 | Win rate: 1.000 | time: 170.7 seconds\n",
      "Epoch: 236/999 | Loss: 0.0003 | Episodes: 9195 | Win count: 201 | Win rate: 1.000 | time: 171.3 seconds\n",
      "Epoch: 237/999 | Loss: 0.0005 | Episodes: 9199 | Win count: 202 | Win rate: 1.000 | time: 171.4 seconds\n",
      "Epoch: 238/999 | Loss: 0.0002 | Episodes: 9225 | Win count: 203 | Win rate: 1.000 | time: 172.1 seconds\n",
      "Epoch: 239/999 | Loss: 0.0010 | Episodes: 9234 | Win count: 204 | Win rate: 1.000 | time: 172.3 seconds\n"
     ]
    },
    {
     "name": "stdout",
     "output_type": "stream",
     "text": [
      "Epoch: 240/999 | Loss: 0.0003 | Episodes: 9240 | Win count: 205 | Win rate: 1.000 | time: 172.4 seconds\n",
      "Epoch: 241/999 | Loss: 0.0001 | Episodes: 9262 | Win count: 206 | Win rate: 1.000 | time: 172.9 seconds\n",
      "Epoch: 242/999 | Loss: 0.0015 | Episodes: 9269 | Win count: 207 | Win rate: 1.000 | time: 173.0 seconds\n",
      "Epoch: 243/999 | Loss: 0.0006 | Episodes: 9288 | Win count: 208 | Win rate: 1.000 | time: 173.4 seconds\n",
      "Epoch: 244/999 | Loss: 0.0004 | Episodes: 9306 | Win count: 209 | Win rate: 1.000 | time: 173.7 seconds\n",
      "Epoch: 245/999 | Loss: 0.0004 | Episodes: 9340 | Win count: 210 | Win rate: 1.000 | time: 174.4 seconds\n",
      "Epoch: 246/999 | Loss: 0.0003 | Episodes: 9362 | Win count: 211 | Win rate: 1.000 | time: 174.9 seconds\n",
      "Epoch: 247/999 | Loss: 0.0003 | Episodes: 9389 | Win count: 212 | Win rate: 1.000 | time: 175.4 seconds\n",
      "Epoch: 248/999 | Loss: 0.0002 | Episodes: 9406 | Win count: 213 | Win rate: 1.000 | time: 175.9 seconds\n",
      "Epoch: 249/999 | Loss: 0.0006 | Episodes: 9442 | Win count: 214 | Win rate: 1.000 | time: 176.8 seconds\n",
      "Epoch: 250/999 | Loss: 0.0007 | Episodes: 9465 | Win count: 215 | Win rate: 1.000 | time: 177.2 seconds\n",
      "Epoch: 251/999 | Loss: 0.0001 | Episodes: 9491 | Win count: 216 | Win rate: 1.000 | time: 177.7 seconds\n",
      "Epoch: 252/999 | Loss: 0.0007 | Episodes: 9563 | Win count: 217 | Win rate: 1.000 | time: 179.2 seconds\n",
      "Epoch: 253/999 | Loss: 0.0002 | Episodes: 9575 | Win count: 218 | Win rate: 1.000 | time: 179.5 seconds\n",
      "Epoch: 254/999 | Loss: 0.0007 | Episodes: 9600 | Win count: 219 | Win rate: 1.000 | time: 180.1 seconds\n",
      "Epoch: 255/999 | Loss: 0.0002 | Episodes: 9611 | Win count: 220 | Win rate: 1.000 | time: 180.4 seconds\n",
      "Epoch: 256/999 | Loss: 0.0003 | Episodes: 9634 | Win count: 221 | Win rate: 1.000 | time: 180.9 seconds\n",
      "Epoch: 257/999 | Loss: 0.0003 | Episodes: 9659 | Win count: 222 | Win rate: 1.000 | time: 181.4 seconds\n",
      "Epoch: 258/999 | Loss: 0.0002 | Episodes: 9683 | Win count: 223 | Win rate: 1.000 | time: 182.0 seconds\n",
      "Epoch: 259/999 | Loss: 0.0003 | Episodes: 9717 | Win count: 224 | Win rate: 1.000 | time: 182.6 seconds\n",
      "Epoch: 260/999 | Loss: 0.0003 | Episodes: 9748 | Win count: 225 | Win rate: 1.000 | time: 183.2 seconds\n",
      "Epoch: 261/999 | Loss: 0.0006 | Episodes: 9759 | Win count: 226 | Win rate: 1.000 | time: 183.4 seconds\n",
      "Epoch: 262/999 | Loss: 0.0003 | Episodes: 9791 | Win count: 227 | Win rate: 1.000 | time: 184.0 seconds\n",
      "Epoch: 263/999 | Loss: 0.0006 | Episodes: 9818 | Win count: 228 | Win rate: 1.000 | time: 184.5 seconds\n",
      "Epoch: 264/999 | Loss: 0.0003 | Episodes: 9851 | Win count: 229 | Win rate: 1.000 | time: 185.0 seconds\n",
      "Epoch: 265/999 | Loss: 0.0005 | Episodes: 9876 | Win count: 230 | Win rate: 1.000 | time: 185.5 seconds\n",
      "Epoch: 266/999 | Loss: 0.0001 | Episodes: 9889 | Win count: 231 | Win rate: 1.000 | time: 185.8 seconds\n",
      "Epoch: 267/999 | Loss: 0.0005 | Episodes: 9929 | Win count: 232 | Win rate: 1.000 | time: 186.5 seconds\n",
      "Epoch: 268/999 | Loss: 0.0013 | Episodes: 9969 | Win count: 233 | Win rate: 1.000 | time: 187.3 seconds\n",
      "Epoch: 269/999 | Loss: 0.0004 | Episodes: 9974 | Win count: 234 | Win rate: 1.000 | time: 187.4 seconds\n",
      "Epoch: 270/999 | Loss: 0.0004 | Episodes: 10003 | Win count: 235 | Win rate: 1.000 | time: 187.9 seconds\n",
      "Epoch: 271/999 | Loss: 0.0007 | Episodes: 10023 | Win count: 236 | Win rate: 1.000 | time: 188.3 seconds\n",
      "Epoch: 272/999 | Loss: 0.0007 | Episodes: 10048 | Win count: 237 | Win rate: 1.000 | time: 188.8 seconds\n",
      "Epoch: 273/999 | Loss: 0.0001 | Episodes: 10070 | Win count: 238 | Win rate: 1.000 | time: 189.2 seconds\n",
      "Epoch: 274/999 | Loss: 0.0005 | Episodes: 10076 | Win count: 239 | Win rate: 1.000 | time: 189.3 seconds\n",
      "Epoch: 275/999 | Loss: 0.0001 | Episodes: 10095 | Win count: 240 | Win rate: 1.000 | time: 189.7 seconds\n",
      "Epoch: 276/999 | Loss: 0.0002 | Episodes: 10120 | Win count: 241 | Win rate: 1.000 | time: 190.1 seconds\n",
      "Epoch: 277/999 | Loss: 0.0001 | Episodes: 10126 | Win count: 242 | Win rate: 1.000 | time: 190.3 seconds\n",
      "Epoch: 278/999 | Loss: 0.0005 | Episodes: 10143 | Win count: 243 | Win rate: 1.000 | time: 190.6 seconds\n",
      "Epoch: 279/999 | Loss: 0.0004 | Episodes: 10158 | Win count: 244 | Win rate: 1.000 | time: 190.9 seconds\n",
      "Epoch: 280/999 | Loss: 0.0009 | Episodes: 10176 | Win count: 245 | Win rate: 1.000 | time: 191.2 seconds\n",
      "Epoch: 281/999 | Loss: 0.0006 | Episodes: 10209 | Win count: 246 | Win rate: 1.000 | time: 192.0 seconds\n",
      "Epoch: 282/999 | Loss: 0.0001 | Episodes: 10237 | Win count: 247 | Win rate: 1.000 | time: 192.5 seconds\n",
      "Epoch: 283/999 | Loss: 0.0001 | Episodes: 10261 | Win count: 248 | Win rate: 1.000 | time: 193.1 seconds\n",
      "Epoch: 284/999 | Loss: 0.0003 | Episodes: 10284 | Win count: 249 | Win rate: 1.000 | time: 193.7 seconds\n",
      "Epoch: 285/999 | Loss: 0.0005 | Episodes: 10309 | Win count: 250 | Win rate: 1.000 | time: 194.1 seconds\n",
      "Epoch: 286/999 | Loss: 0.0002 | Episodes: 10334 | Win count: 251 | Win rate: 1.000 | time: 194.6 seconds\n",
      "Epoch: 287/999 | Loss: 0.0003 | Episodes: 10339 | Win count: 252 | Win rate: 1.000 | time: 194.8 seconds\n",
      "Epoch: 288/999 | Loss: 0.0003 | Episodes: 10351 | Win count: 253 | Win rate: 1.000 | time: 195.2 seconds\n",
      "Epoch: 289/999 | Loss: 0.0000 | Episodes: 10371 | Win count: 254 | Win rate: 1.000 | time: 195.7 seconds\n",
      "Epoch: 290/999 | Loss: 0.0003 | Episodes: 10385 | Win count: 255 | Win rate: 1.000 | time: 196.1 seconds\n",
      "Epoch: 291/999 | Loss: 0.0004 | Episodes: 10407 | Win count: 256 | Win rate: 1.000 | time: 196.7 seconds\n",
      "Epoch: 292/999 | Loss: 0.0001 | Episodes: 10424 | Win count: 257 | Win rate: 1.000 | time: 197.1 seconds\n",
      "Epoch: 293/999 | Loss: 0.0003 | Episodes: 10430 | Win count: 258 | Win rate: 1.000 | time: 197.4 seconds\n",
      "Epoch: 294/999 | Loss: 0.0004 | Episodes: 10445 | Win count: 259 | Win rate: 1.000 | time: 197.7 seconds\n",
      "Epoch: 295/999 | Loss: 0.0002 | Episodes: 10454 | Win count: 260 | Win rate: 1.000 | time: 197.8 seconds\n",
      "Epoch: 296/999 | Loss: 0.0001 | Episodes: 10476 | Win count: 261 | Win rate: 1.000 | time: 198.4 seconds\n",
      "Epoch: 297/999 | Loss: 0.0005 | Episodes: 10502 | Win count: 262 | Win rate: 1.000 | time: 199.0 seconds\n",
      "Epoch: 298/999 | Loss: 0.0007 | Episodes: 10526 | Win count: 263 | Win rate: 1.000 | time: 199.6 seconds\n",
      "Epoch: 299/999 | Loss: 0.0009 | Episodes: 10531 | Win count: 264 | Win rate: 1.000 | time: 199.7 seconds\n",
      "Epoch: 300/999 | Loss: 0.0001 | Episodes: 10560 | Win count: 265 | Win rate: 1.000 | time: 200.2 seconds\n",
      "Epoch: 301/999 | Loss: 0.0002 | Episodes: 10572 | Win count: 266 | Win rate: 1.000 | time: 200.6 seconds\n",
      "Epoch: 302/999 | Loss: 0.0002 | Episodes: 10583 | Win count: 267 | Win rate: 1.000 | time: 200.8 seconds\n",
      "Epoch: 303/999 | Loss: 0.0005 | Episodes: 10634 | Win count: 268 | Win rate: 1.000 | time: 201.7 seconds\n",
      "Epoch: 304/999 | Loss: 0.0012 | Episodes: 10655 | Win count: 269 | Win rate: 1.000 | time: 202.3 seconds\n",
      "Epoch: 305/999 | Loss: 0.0009 | Episodes: 10682 | Win count: 270 | Win rate: 1.000 | time: 202.8 seconds\n",
      "Epoch: 306/999 | Loss: 0.0009 | Episodes: 10696 | Win count: 271 | Win rate: 1.000 | time: 203.2 seconds\n",
      "Epoch: 307/999 | Loss: 0.0002 | Episodes: 10714 | Win count: 272 | Win rate: 1.000 | time: 203.6 seconds\n",
      "Epoch: 308/999 | Loss: 0.0007 | Episodes: 10742 | Win count: 273 | Win rate: 1.000 | time: 204.2 seconds\n",
      "Epoch: 309/999 | Loss: 0.0004 | Episodes: 10767 | Win count: 274 | Win rate: 1.000 | time: 204.8 seconds\n",
      "Epoch: 310/999 | Loss: 0.0005 | Episodes: 10788 | Win count: 275 | Win rate: 1.000 | time: 205.3 seconds\n",
      "Epoch: 311/999 | Loss: 0.0006 | Episodes: 10795 | Win count: 276 | Win rate: 1.000 | time: 205.5 seconds\n",
      "Reached 100% win rate at epoch: 311\n",
      "n_epoch: 311, max_mem: 512, data: 32, time: 205.7 seconds\n"
     ]
    },
    {
     "data": {
      "text/plain": [
       "205.671453"
      ]
     },
     "execution_count": 11,
     "metadata": {},
     "output_type": "execute_result"
    }
   ],
   "source": [
    "model = build_model(maze)\n",
    "qtrain(model, maze, n_epoch=1000, max_memory=8*maze.size, data_size=32)"
   ]
  },
  {
   "cell_type": "markdown",
   "metadata": {},
   "source": [
    "This cell will check to see if the model passes the completion check. Note: This could take several minutes."
   ]
  },
  {
   "cell_type": "code",
   "execution_count": 12,
   "metadata": {},
   "outputs": [
    {
     "data": {
      "text/plain": [
       "<matplotlib.image.AxesImage at 0x265bedacf28>"
      ]
     },
     "execution_count": 12,
     "metadata": {},
     "output_type": "execute_result"
    },
    {
     "data": {
      "image/png": "[encoded data removed]",
      "text/plain": [
       "<Figure size 432x288 with 1 Axes>"
      ]
     },
     "metadata": {
      "needs_background": "light"
     },
     "output_type": "display_data"
    }
   ],
   "source": [
    "completion_check(model, qmaze)\n",
    "show(qmaze)"
   ]
  },
  {
   "cell_type": "markdown",
   "metadata": {},
   "source": [
    "This cell will test your model for one game. It will start the pirate at the top-left corner and run play_game. The agent should find a path from the starting position to the target (treasure). The treasure is located in the bottom-right corner."
   ]
  },
  {
   "cell_type": "code",
   "execution_count": 13,
   "metadata": {},
   "outputs": [
    {
     "data": {
      "text/plain": [
       "<matplotlib.image.AxesImage at 0x265bedd3978>"
      ]
     },
     "execution_count": 13,
     "metadata": {},
     "output_type": "execute_result"
    },
    {
     "data": {
      "image/png": "[encoded data removed]",
      "text/plain": [
       "<Figure size 432x288 with 1 Axes>"
      ]
     },
     "metadata": {
      "needs_background": "light"
     },
     "output_type": "display_data"
    }
   ],
   "source": [
    "pirate_start = (0, 0)\n",
    "play_game(model, qmaze, pirate_start)\n",
    "show(qmaze)"
   ]
  },
  {
   "cell_type": "markdown",
   "metadata": {},
   "source": [
    "## Save and Submit Your Work\n",
    "After you have finished creating the code for your notebook, save your work. Make sure that your notebook contains your name in the filename (e.g. Doe_Jane_ProjectTwo.ipynb). This will help your instructor access and grade your work easily. Download a copy of your IPYNB file and submit it to Brightspace. Refer to the Jupyter Notebook in Apporto Tutorial if you need help with these tasks."
   ]
  }
 ],
 "metadata": {
  "kernelspec": {
   "display_name": "Python 3",
   "language": "python",
   "name": "python3"
  },
  "language_info": {
   "codemirror_mode": {
    "name": "ipython",
    "version": 3
   },
   "file_extension": ".py",
   "mimetype": "text/x-python",
   "name": "python",
   "nbconvert_exporter": "python",
   "pygments_lexer": "ipython3",
   "version": "3.6.5"
  }
 },
 "nbformat": 4,
 "nbformat_minor": 2
}
